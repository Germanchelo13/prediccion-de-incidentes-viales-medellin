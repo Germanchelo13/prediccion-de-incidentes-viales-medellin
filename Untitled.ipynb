{
 "cells": [
  {
   "cell_type": "code",
   "execution_count": 48,
   "id": "3f835127-dc70-4a35-b278-20cd6ce300dc",
   "metadata": {},
   "outputs": [],
   "source": [
    "import pandas as pd\n",
    "import numpy as np\n",
    "import geopandas\n",
    "import ast\n",
    "import datetime\n",
    "#! pip install geopandas"
   ]
  },
  {
   "cell_type": "code",
   "execution_count": 2,
   "id": "5ec192df-cdf6-4a0d-9fc9-7b0dcff27f1b",
   "metadata": {},
   "outputs": [],
   "source": [
    "# lectura datos\n",
    "datos=pd.read_csv(\"incidentes_viales.csv\",sep=\";\",encoding='ansi',engine=\"python\")\n",
    "##########################################################################################\n",
    "# transformacion fechas y año.\n",
    "datos[\"FECHA_ACCIDENTE_\"]=pd.to_datetime(datos[\"FECHA_ACCIDENTE\"].apply(lambda x: x.replace(\"Sin Inf\",\"00:00:00\") ))\n",
    "datos[\"DIAS_REF\"]=datos[\"FECHA_ACCIDENTE_\"]-datos[\"FECHA_ACCIDENTE_\"].min()\n",
    "datos[\"DIAS_REF\"]=datos[\"DIAS_REF\"].apply(lambda x : x.days)\n",
    "# datos[\"DIAS_REF\"].astype(int)\n",
    "datos[\"AÑO\"]=datos[\"AÑO\"].apply(lambda x: int(str(x).replace(\"\\\\r\",\"\")) )\n",
    "##########################################################################################\n",
    "\n",
    "# lectura barrios shape\n",
    "shapefile = geopandas.read_file(\"Barrio_Vereda.shp\")\n",
    "# str to list\n",
    "datos[\"LOCATION\"]=datos[\"LOCATION\"].apply(lambda x: ast.literal_eval(x))\n",
    "# dataframe to geopandas\n",
    "# sistema de referencia datos : ITRF94\n",
    "gdf = geopandas.GeoDataFrame(\n",
    "    datos, geometry=geopandas.points_from_xy(datos.LOCATION.apply(lambda x: x[0]),\n",
    "                                             datos.LOCATION.apply(lambda x: x[1]),\n",
    "                                            crs=\"ITRF94\"))\n",
    "# cambiar sistema de refencia \n",
    "# sistema de refencia de barrios es: EPSG:4326\n",
    "gdf=gdf.to_crs(\"EPSG:4326\")\n",
    "# join barrios medellin y datos\n",
    "datos_join=geopandas.sjoin(gdf,shapefile , how='left') "
   ]
  },
  {
   "cell_type": "code",
   "execution_count": 17,
   "id": "f06493c8-b2e8-4b7d-be6d-e8482157a3d4",
   "metadata": {},
   "outputs": [],
   "source": [
    "datos_join=geopandas.sjoin(shapefile,gdf , how='left') "
   ]
  },
  {
   "cell_type": "code",
   "execution_count": 18,
   "id": "43361e57-e87f-479b-a8af-7fcdc98a3fcb",
   "metadata": {},
   "outputs": [
    {
     "data": {
      "text/plain": [
       "Index(['OBJECTID', 'CODIGO', 'NOMBRE', 'SUBTIPO_BA', 'SHAPEAREA', 'SHAPELEN',\n",
       "       'geometry', 'index_right', 'AÑO', 'CBML', 'CLASE_ACCIDENTE',\n",
       "       'DIRECCION', 'DIRECCION ENCASILLADA', 'DISEÑO', 'EXPEDIENTE',\n",
       "       'FECHA_ACCIDENTE', 'FECHA_ACCIDENTES', 'GRAVEDAD_ACCIDENTE', 'MES',\n",
       "       'NRO_RADICADO', 'NUMCOMUNA', 'BARRIO', 'COMUNA', 'LOCATION', 'X', 'Y',\n",
       "       'FECHA_ACCIDENTE_', 'DIAS_REF'],\n",
       "      dtype='object')"
      ]
     },
     "execution_count": 18,
     "metadata": {},
     "output_type": "execute_result"
    }
   ],
   "source": [
    "datos_join.columns"
   ]
  },
  {
   "cell_type": "code",
   "execution_count": 11,
   "id": "dd3e3743-f4de-493e-89c0-c218dca498ac",
   "metadata": {},
   "outputs": [
    {
     "data": {
      "text/plain": [
       "Index(['OBJECTID', 'CODIGO', 'NOMBRE', 'SUBTIPO_BA', 'SHAPEAREA', 'SHAPELEN',\n",
       "       'geometry', 'index_right', 'AÑO', 'CBML', 'CLASE_ACCIDENTE',\n",
       "       'DIRECCION', 'DIRECCION ENCASILLADA', 'DISEÑO', 'EXPEDIENTE',\n",
       "       'FECHA_ACCIDENTE', 'FECHA_ACCIDENTES', 'GRAVEDAD_ACCIDENTE', 'MES',\n",
       "       'NRO_RADICADO', 'NUMCOMUNA', 'BARRIO', 'COMUNA', 'LOCATION', 'X', 'Y',\n",
       "       'FECHA_ACCIDENTE_', 'DIAS_REF'],\n",
       "      dtype='object')"
      ]
     },
     "execution_count": 11,
     "metadata": {},
     "output_type": "execute_result"
    }
   ],
   "source": [
    "datos_join.drop(labels=[\"OBJECTID\",\"index_right\"], axis=1)"
   ]
  },
  {
   "cell_type": "code",
   "execution_count": 20,
   "id": "abc12d60-269b-4230-b405-2c2a18c3885c",
   "metadata": {},
   "outputs": [
    {
     "data": {
      "text/plain": [
       "Index(['OBJECTID', 'CODIGO', 'NOMBRE', 'SUBTIPO_BA', 'SHAPEAREA', 'SHAPELEN',\n",
       "       'geometry_y'],\n",
       "      dtype='object')"
      ]
     },
     "execution_count": 20,
     "metadata": {},
     "output_type": "execute_result"
    }
   ],
   "source": [
    "datos_temp.columns[-7:]"
   ]
  },
  {
   "cell_type": "code",
   "execution_count": 12,
   "id": "3f9041a1-7fae-452c-8217-b60786fd9adb",
   "metadata": {
    "tags": []
   },
   "outputs": [],
   "source": [
    "filtro=~datos.EXPEDIENTE.isin(datos_join.EXPEDIENTE)\n",
    "datos_temp=datos.loc[filtro,:].merge(shapefile,left_on=\"BARRIO\", right_on=\"NOMBRE\" ).copy()"
   ]
  },
  {
   "cell_type": "code",
   "execution_count": 30,
   "id": "9140207b-c562-4258-b5b2-7f36bdee5d90",
   "metadata": {},
   "outputs": [],
   "source": [
    "datos_join[\"DIAS_REF\"]=datos_join[\"DIAS_REF\"].apply(lambda x : x.days)"
   ]
  },
  {
   "cell_type": "code",
   "execution_count": 31,
   "id": "d377a9f2-4d79-47e1-b28d-ee9617a1b0cc",
   "metadata": {},
   "outputs": [
    {
     "data": {
      "text/plain": [
       "Index(['OBJECTID', 'CODIGO', 'NOMBRE', 'SUBTIPO_BA', 'SHAPEAREA', 'SHAPELEN',\n",
       "       'geometry', 'index_right', 'AÑO', 'CBML', 'CLASE_ACCIDENTE',\n",
       "       'DIRECCION', 'DIRECCION ENCASILLADA', 'DISEÑO', 'EXPEDIENTE',\n",
       "       'FECHA_ACCIDENTE', 'FECHA_ACCIDENTES', 'GRAVEDAD_ACCIDENTE', 'MES',\n",
       "       'NRO_RADICADO', 'NUMCOMUNA', 'BARRIO', 'COMUNA', 'LOCATION', 'X', 'Y',\n",
       "       'FECHA_ACCIDENTE_', 'DIAS_REF'],\n",
       "      dtype='object')"
      ]
     },
     "execution_count": 31,
     "metadata": {},
     "output_type": "execute_result"
    }
   ],
   "source": [
    "datos_join.columns"
   ]
  },
  {
   "cell_type": "code",
   "execution_count": null,
   "id": "1279e28e-393a-4757-aa1c-e208fcc8e908",
   "metadata": {
    "collapsed": true,
    "jupyter": {
     "outputs_hidden": true
    },
    "tags": []
   },
   "outputs": [
    {
     "ename": "ValueError",
     "evalue": "NaTType does not support timetuple",
     "output_type": "error",
     "traceback": [
      "\u001b[1;31m---------------------------------------------------------------------------\u001b[0m",
      "\u001b[1;31mValueError\u001b[0m                                Traceback (most recent call last)",
      "Input \u001b[1;32mIn [51]\u001b[0m, in \u001b[0;36m<cell line: 2>\u001b[1;34m()\u001b[0m\n\u001b[0;32m      1\u001b[0m datos_join[\u001b[38;5;124m\"\u001b[39m\u001b[38;5;124mDIA\u001b[39m\u001b[38;5;124m\"\u001b[39m]\u001b[38;5;241m=\u001b[39mdatos_join[\u001b[38;5;124m\"\u001b[39m\u001b[38;5;124mFECHA_ACCIDENTE_\u001b[39m\u001b[38;5;124m\"\u001b[39m]\u001b[38;5;241m.\u001b[39mapply(\u001b[38;5;28;01mlambda\u001b[39;00m x: x\u001b[38;5;241m.\u001b[39mday)\n\u001b[1;32m----> 2\u001b[0m datos_join[\u001b[38;5;124m\"\u001b[39m\u001b[38;5;124mSEMANA\u001b[39m\u001b[38;5;124m\"\u001b[39m]\u001b[38;5;241m=\u001b[39m\u001b[43mdatos_join\u001b[49m\u001b[43m[\u001b[49m\u001b[38;5;124;43m\"\u001b[39;49m\u001b[38;5;124;43mFECHA_ACCIDENTE_\u001b[39;49m\u001b[38;5;124;43m\"\u001b[39;49m\u001b[43m]\u001b[49m\u001b[38;5;241;43m.\u001b[39;49m\u001b[43mapply\u001b[49m\u001b[43m(\u001b[49m\u001b[38;5;28;43;01mlambda\u001b[39;49;00m\u001b[43m \u001b[49m\u001b[43mx\u001b[49m\u001b[43m:\u001b[49m\u001b[43m \u001b[49m\u001b[43mdatetime\u001b[49m\u001b[38;5;241;43m.\u001b[39;49m\u001b[43mdatetime\u001b[49m\u001b[38;5;241;43m.\u001b[39;49m\u001b[43mstrftime\u001b[49m\u001b[43m(\u001b[49m\u001b[43m \u001b[49m\u001b[43mx\u001b[49m\u001b[43m,\u001b[49m\u001b[38;5;124;43m\"\u001b[39;49m\u001b[38;5;124;43m%\u001b[39;49m\u001b[38;5;124;43mw\u001b[39;49m\u001b[38;5;124;43m\"\u001b[39;49m\u001b[43m)\u001b[49m\u001b[43m \u001b[49m\u001b[43m)\u001b[49m\n",
      "File \u001b[1;32mC:\\ProgramData\\Anaconda3\\lib\\site-packages\\pandas\\core\\series.py:4433\u001b[0m, in \u001b[0;36mSeries.apply\u001b[1;34m(self, func, convert_dtype, args, **kwargs)\u001b[0m\n\u001b[0;32m   4323\u001b[0m \u001b[38;5;28;01mdef\u001b[39;00m \u001b[38;5;21mapply\u001b[39m(\n\u001b[0;32m   4324\u001b[0m     \u001b[38;5;28mself\u001b[39m,\n\u001b[0;32m   4325\u001b[0m     func: AggFuncType,\n\u001b[1;32m   (...)\u001b[0m\n\u001b[0;32m   4328\u001b[0m     \u001b[38;5;241m*\u001b[39m\u001b[38;5;241m*\u001b[39mkwargs,\n\u001b[0;32m   4329\u001b[0m ) \u001b[38;5;241m-\u001b[39m\u001b[38;5;241m>\u001b[39m DataFrame \u001b[38;5;241m|\u001b[39m Series:\n\u001b[0;32m   4330\u001b[0m     \u001b[38;5;124;03m\"\"\"\u001b[39;00m\n\u001b[0;32m   4331\u001b[0m \u001b[38;5;124;03m    Invoke function on values of Series.\u001b[39;00m\n\u001b[0;32m   4332\u001b[0m \n\u001b[1;32m   (...)\u001b[0m\n\u001b[0;32m   4431\u001b[0m \u001b[38;5;124;03m    dtype: float64\u001b[39;00m\n\u001b[0;32m   4432\u001b[0m \u001b[38;5;124;03m    \"\"\"\u001b[39;00m\n\u001b[1;32m-> 4433\u001b[0m     \u001b[38;5;28;01mreturn\u001b[39;00m \u001b[43mSeriesApply\u001b[49m\u001b[43m(\u001b[49m\u001b[38;5;28;43mself\u001b[39;49m\u001b[43m,\u001b[49m\u001b[43m \u001b[49m\u001b[43mfunc\u001b[49m\u001b[43m,\u001b[49m\u001b[43m \u001b[49m\u001b[43mconvert_dtype\u001b[49m\u001b[43m,\u001b[49m\u001b[43m \u001b[49m\u001b[43margs\u001b[49m\u001b[43m,\u001b[49m\u001b[43m \u001b[49m\u001b[43mkwargs\u001b[49m\u001b[43m)\u001b[49m\u001b[38;5;241;43m.\u001b[39;49m\u001b[43mapply\u001b[49m\u001b[43m(\u001b[49m\u001b[43m)\u001b[49m\n",
      "File \u001b[1;32mC:\\ProgramData\\Anaconda3\\lib\\site-packages\\pandas\\core\\apply.py:1082\u001b[0m, in \u001b[0;36mSeriesApply.apply\u001b[1;34m(self)\u001b[0m\n\u001b[0;32m   1078\u001b[0m \u001b[38;5;28;01mif\u001b[39;00m \u001b[38;5;28misinstance\u001b[39m(\u001b[38;5;28mself\u001b[39m\u001b[38;5;241m.\u001b[39mf, \u001b[38;5;28mstr\u001b[39m):\n\u001b[0;32m   1079\u001b[0m     \u001b[38;5;66;03m# if we are a string, try to dispatch\u001b[39;00m\n\u001b[0;32m   1080\u001b[0m     \u001b[38;5;28;01mreturn\u001b[39;00m \u001b[38;5;28mself\u001b[39m\u001b[38;5;241m.\u001b[39mapply_str()\n\u001b[1;32m-> 1082\u001b[0m \u001b[38;5;28;01mreturn\u001b[39;00m \u001b[38;5;28;43mself\u001b[39;49m\u001b[38;5;241;43m.\u001b[39;49m\u001b[43mapply_standard\u001b[49m\u001b[43m(\u001b[49m\u001b[43m)\u001b[49m\n",
      "File \u001b[1;32mC:\\ProgramData\\Anaconda3\\lib\\site-packages\\pandas\\core\\apply.py:1137\u001b[0m, in \u001b[0;36mSeriesApply.apply_standard\u001b[1;34m(self)\u001b[0m\n\u001b[0;32m   1131\u001b[0m         values \u001b[38;5;241m=\u001b[39m obj\u001b[38;5;241m.\u001b[39mastype(\u001b[38;5;28mobject\u001b[39m)\u001b[38;5;241m.\u001b[39m_values\n\u001b[0;32m   1132\u001b[0m         \u001b[38;5;66;03m# error: Argument 2 to \"map_infer\" has incompatible type\u001b[39;00m\n\u001b[0;32m   1133\u001b[0m         \u001b[38;5;66;03m# \"Union[Callable[..., Any], str, List[Union[Callable[..., Any], str]],\u001b[39;00m\n\u001b[0;32m   1134\u001b[0m         \u001b[38;5;66;03m# Dict[Hashable, Union[Union[Callable[..., Any], str],\u001b[39;00m\n\u001b[0;32m   1135\u001b[0m         \u001b[38;5;66;03m# List[Union[Callable[..., Any], str]]]]]\"; expected\u001b[39;00m\n\u001b[0;32m   1136\u001b[0m         \u001b[38;5;66;03m# \"Callable[[Any], Any]\"\u001b[39;00m\n\u001b[1;32m-> 1137\u001b[0m         mapped \u001b[38;5;241m=\u001b[39m \u001b[43mlib\u001b[49m\u001b[38;5;241;43m.\u001b[39;49m\u001b[43mmap_infer\u001b[49m\u001b[43m(\u001b[49m\n\u001b[0;32m   1138\u001b[0m \u001b[43m            \u001b[49m\u001b[43mvalues\u001b[49m\u001b[43m,\u001b[49m\n\u001b[0;32m   1139\u001b[0m \u001b[43m            \u001b[49m\u001b[43mf\u001b[49m\u001b[43m,\u001b[49m\u001b[43m  \u001b[49m\u001b[38;5;66;43;03m# type: ignore[arg-type]\u001b[39;49;00m\n\u001b[0;32m   1140\u001b[0m \u001b[43m            \u001b[49m\u001b[43mconvert\u001b[49m\u001b[38;5;241;43m=\u001b[39;49m\u001b[38;5;28;43mself\u001b[39;49m\u001b[38;5;241;43m.\u001b[39;49m\u001b[43mconvert_dtype\u001b[49m\u001b[43m,\u001b[49m\n\u001b[0;32m   1141\u001b[0m \u001b[43m        \u001b[49m\u001b[43m)\u001b[49m\n\u001b[0;32m   1143\u001b[0m \u001b[38;5;28;01mif\u001b[39;00m \u001b[38;5;28mlen\u001b[39m(mapped) \u001b[38;5;129;01mand\u001b[39;00m \u001b[38;5;28misinstance\u001b[39m(mapped[\u001b[38;5;241m0\u001b[39m], ABCSeries):\n\u001b[0;32m   1144\u001b[0m     \u001b[38;5;66;03m# GH#43986 Need to do list(mapped) in order to get treated as nested\u001b[39;00m\n\u001b[0;32m   1145\u001b[0m     \u001b[38;5;66;03m#  See also GH#25959 regarding EA support\u001b[39;00m\n\u001b[0;32m   1146\u001b[0m     \u001b[38;5;28;01mreturn\u001b[39;00m obj\u001b[38;5;241m.\u001b[39m_constructor_expanddim(\u001b[38;5;28mlist\u001b[39m(mapped), index\u001b[38;5;241m=\u001b[39mobj\u001b[38;5;241m.\u001b[39mindex)\n",
      "File \u001b[1;32mC:\\ProgramData\\Anaconda3\\lib\\site-packages\\pandas\\_libs\\lib.pyx:2870\u001b[0m, in \u001b[0;36mpandas._libs.lib.map_infer\u001b[1;34m()\u001b[0m\n",
      "Input \u001b[1;32mIn [51]\u001b[0m, in \u001b[0;36m<lambda>\u001b[1;34m(x)\u001b[0m\n\u001b[0;32m      1\u001b[0m datos_join[\u001b[38;5;124m\"\u001b[39m\u001b[38;5;124mDIA\u001b[39m\u001b[38;5;124m\"\u001b[39m]\u001b[38;5;241m=\u001b[39mdatos_join[\u001b[38;5;124m\"\u001b[39m\u001b[38;5;124mFECHA_ACCIDENTE_\u001b[39m\u001b[38;5;124m\"\u001b[39m]\u001b[38;5;241m.\u001b[39mapply(\u001b[38;5;28;01mlambda\u001b[39;00m x: x\u001b[38;5;241m.\u001b[39mday)\n\u001b[1;32m----> 2\u001b[0m datos_join[\u001b[38;5;124m\"\u001b[39m\u001b[38;5;124mSEMANA\u001b[39m\u001b[38;5;124m\"\u001b[39m]\u001b[38;5;241m=\u001b[39mdatos_join[\u001b[38;5;124m\"\u001b[39m\u001b[38;5;124mFECHA_ACCIDENTE_\u001b[39m\u001b[38;5;124m\"\u001b[39m]\u001b[38;5;241m.\u001b[39mapply(\u001b[38;5;28;01mlambda\u001b[39;00m x: \u001b[43mdatetime\u001b[49m\u001b[38;5;241;43m.\u001b[39;49m\u001b[43mdatetime\u001b[49m\u001b[38;5;241;43m.\u001b[39;49m\u001b[43mstrftime\u001b[49m\u001b[43m(\u001b[49m\u001b[43m \u001b[49m\u001b[43mx\u001b[49m\u001b[43m,\u001b[49m\u001b[38;5;124;43m\"\u001b[39;49m\u001b[38;5;124;43m%\u001b[39;49m\u001b[38;5;124;43mw\u001b[39;49m\u001b[38;5;124;43m\"\u001b[39;49m\u001b[43m)\u001b[49m )\n",
      "File \u001b[1;32mC:\\ProgramData\\Anaconda3\\lib\\site-packages\\pandas\\_libs\\tslibs\\nattype.pyx:75\u001b[0m, in \u001b[0;36mpandas._libs.tslibs.nattype._make_error_func.f\u001b[1;34m()\u001b[0m\n",
      "\u001b[1;31mValueError\u001b[0m: NaTType does not support timetuple"
     ]
    }
   ],
   "source": [
    "datos_join[\"DIA\"]=datos_join[\"FECHA_ACCIDENTE_\"].apply(lambda x: x.day)\n",
    "datos_join[\"DIA\"]=datos_join[\"FECHA_ACCIDENTE_\"].apply(lambda x: strftime( x,\"%w\") )\n",
    "# datos_join[\"DIA\"]=datos_join[\"FECHA_ACCIDENTE_\"].apply(lambda x: x.date)"
   ]
  },
  {
   "cell_type": "code",
   "execution_count": 56,
   "id": "d7f03b25-b2d7-4193-a7d8-d6f231dea0a5",
   "metadata": {},
   "outputs": [
    {
     "data": {
      "text/plain": [
       "'05'"
      ]
     },
     "execution_count": 56,
     "metadata": {},
     "output_type": "execute_result"
    }
   ],
   "source": [
    "datetime.datetime.strftime( datos_join[\"FECHA_ACCIDENTE_\"].iloc[0],\"%W\")"
   ]
  },
  {
   "cell_type": "code",
   "execution_count": 53,
   "id": "2dd44600-2d3c-4f29-8d29-fc434c7fbbf5",
   "metadata": {},
   "outputs": [
    {
     "data": {
      "text/plain": [
       "Timestamp('2016-02-04 12:30:00')"
      ]
     },
     "execution_count": 53,
     "metadata": {},
     "output_type": "execute_result"
    }
   ],
   "source": [
    "datos_join[\"FECHA_ACCIDENTE_\"].iloc[0]"
   ]
  },
  {
   "cell_type": "code",
   "execution_count": 34,
   "id": "038fc80c-c0a0-4d9f-ba8b-76ba92082a27",
   "metadata": {
    "collapsed": true,
    "jupyter": {
     "outputs_hidden": true
    },
    "tags": []
   },
   "outputs": [
    {
     "data": {
      "text/plain": [
       "0       4.0\n",
       "0       6.0\n",
       "0       1.0\n",
       "0      12.0\n",
       "0       4.0\n",
       "       ... \n",
       "330     1.0\n",
       "330    12.0\n",
       "330    12.0\n",
       "331     3.0\n",
       "331     4.0\n",
       "Name: MES, Length: 250498, dtype: float64"
      ]
     },
     "execution_count": 34,
     "metadata": {},
     "output_type": "execute_result"
    }
   ],
   "source": [
    "datos_join.MES"
   ]
  },
  {
   "cell_type": "code",
   "execution_count": 43,
   "id": "d1abd1de-b951-488f-b97e-ef207fdd1a22",
   "metadata": {},
   "outputs": [],
   "source": [
    "datos_prueba=datos_join.groupby([ \"NOMBRE\", \"CLASE_ACCIDENTE\" ,\"DIA\", \"MES\", \"AÑO\"]).count()[\"Y\"].reset_index()"
   ]
  },
  {
   "cell_type": "code",
   "execution_count": 46,
   "id": "84c7069d-40c9-4b37-b864-3accf00488ee",
   "metadata": {},
   "outputs": [
    {
     "data": {
      "text/plain": [
       "count    157675.000000\n",
       "mean          1.588590\n",
       "std           1.900324\n",
       "min           1.000000\n",
       "25%           1.000000\n",
       "50%           1.000000\n",
       "75%           1.000000\n",
       "max          49.000000\n",
       "Name: Y, dtype: float64"
      ]
     },
     "execution_count": 46,
     "metadata": {},
     "output_type": "execute_result"
    }
   ],
   "source": [
    "datos_prueba.Y.describe()"
   ]
  },
  {
   "cell_type": "code",
   "execution_count": 6,
   "id": "c358e9e9-f734-4507-afd7-df97f6683590",
   "metadata": {},
   "outputs": [
    {
     "data": {
      "text/html": [
       "<div>\n",
       "<style scoped>\n",
       "    .dataframe tbody tr th:only-of-type {\n",
       "        vertical-align: middle;\n",
       "    }\n",
       "\n",
       "    .dataframe tbody tr th {\n",
       "        vertical-align: top;\n",
       "    }\n",
       "\n",
       "    .dataframe thead th {\n",
       "        text-align: right;\n",
       "    }\n",
       "</style>\n",
       "<table border=\"1\" class=\"dataframe\">\n",
       "  <thead>\n",
       "    <tr style=\"text-align: right;\">\n",
       "      <th></th>\n",
       "      <th>OBJECTID</th>\n",
       "      <th>CODIGO</th>\n",
       "      <th>NOMBRE</th>\n",
       "      <th>SUBTIPO_BA</th>\n",
       "      <th>SHAPEAREA</th>\n",
       "      <th>SHAPELEN</th>\n",
       "      <th>geometry</th>\n",
       "    </tr>\n",
       "  </thead>\n",
       "  <tbody>\n",
       "    <tr>\n",
       "      <th>190</th>\n",
       "      <td>972</td>\n",
       "      <td>1510</td>\n",
       "      <td>Guayabal</td>\n",
       "      <td>1</td>\n",
       "      <td>747197.185348</td>\n",
       "      <td>4132.516706</td>\n",
       "      <td>POLYGON ((-75.58111 6.19704, -75.58162 6.19666...</td>\n",
       "    </tr>\n",
       "  </tbody>\n",
       "</table>\n",
       "</div>"
      ],
      "text/plain": [
       "     OBJECTID CODIGO    NOMBRE  SUBTIPO_BA      SHAPEAREA     SHAPELEN  \\\n",
       "190       972   1510  Guayabal           1  747197.185348  4132.516706   \n",
       "\n",
       "                                              geometry  \n",
       "190  POLYGON ((-75.58111 6.19704, -75.58162 6.19666...  "
      ]
     },
     "execution_count": 6,
     "metadata": {},
     "output_type": "execute_result"
    }
   ],
   "source": [
    "shapefile[shapefile[\"NOMBRE\"]==\"Guayabal\"]"
   ]
  },
  {
   "cell_type": "code",
   "execution_count": 3,
   "id": "856db5e7-8302-4e0f-b0f5-a2ba65d33bbc",
   "metadata": {},
   "outputs": [
    {
     "data": {
      "text/plain": [
       "NaN                              18798\n",
       "0                                 1036\n",
       "Guayabal                           354\n",
       "1510                                16\n",
       "Caribe                               9\n",
       "Los Balsos No.2                      3\n",
       "Cabecera San Antonio de Prado        3\n",
       "El Chagualo                          3\n",
       "Asomadera No. 1                      2\n",
       "Plaza de Ferias                      2\n",
       "El Progreso                          1\n",
       "Palermo                              1\n",
       "Terminal de Transporte               1\n",
       "Fuente Clara                         1\n",
       "Parque Norte                         1\n",
       "Sin Inf                              1\n",
       "Volcana Guayabal                     1\n",
       "Área de Expansión Pajarito           1\n",
       "Santa Mónica                         1\n",
       "La Alpujarra                         1\n",
       "Name: BARRIO, dtype: int64"
      ]
     },
     "execution_count": 3,
     "metadata": {},
     "output_type": "execute_result"
    }
   ],
   "source": [
    "datos.loc[,\"BARRIO\"].value_counts(dropna=False)"
   ]
  },
  {
   "cell_type": "code",
   "execution_count": 98,
   "id": "80028bc7-482d-453c-a142-45ddcbee5095",
   "metadata": {},
   "outputs": [
    {
     "data": {
      "text/plain": [
       "2016      0.077256\n",
       "2017      0.077135\n",
       "2015      0.076670\n",
       "2018      0.072835\n",
       "2019\\r    0.050561\n",
       "2014      0.074459\n",
       "2020      0.066187\n",
       "2019      0.107696\n",
       "Name: AÑO, dtype: float64"
      ]
     },
     "execution_count": 98,
     "metadata": {},
     "output_type": "execute_result"
    }
   ],
   "source": [
    "(datos[\"AÑO\"].value_counts()-datos_join[\"AÑO\"].value_counts())/datos[\"AÑO\"].value_counts()"
   ]
  },
  {
   "cell_type": "code",
   "execution_count": 95,
   "id": "46add2b4-94fe-45b4-85a2-18f565db870d",
   "metadata": {},
   "outputs": [
    {
     "data": {
      "text/plain": [
       "2016      47103\n",
       "2017      46205\n",
       "2015      46172\n",
       "2018      43358\n",
       "2019\\r    26760\n",
       "2014      22415\n",
       "2020      19717\n",
       "2019      19035\n",
       "Name: AÑO, dtype: int64"
      ]
     },
     "execution_count": 95,
     "metadata": {},
     "output_type": "execute_result"
    }
   ],
   "source": [
    "\n"
   ]
  },
  {
   "cell_type": "markdown",
   "id": "cb17f933-71e4-4e29-b0e8-4e9674603fa5",
   "metadata": {},
   "source": [
    "archivo .shape o argis mapa de medellín discriminado pro barrios."
   ]
  },
  {
   "cell_type": "markdown",
   "id": "d9c9eb70-60ea-4086-aa6b-6b5f36db43a6",
   "metadata": {},
   "source": [
    "En la columna FECHA_ACCIDENTE existen registros con \"Sin Inf\" que según parece es que no se tiene información de la hora del accidente."
   ]
  },
  {
   "cell_type": "code",
   "execution_count": 3,
   "id": "d5a81917-fd9e-4c1c-951e-67b385d8aee2",
   "metadata": {},
   "outputs": [],
   "source": []
  },
  {
   "cell_type": "code",
   "execution_count": 4,
   "id": "80660760-fc80-4774-8d13-6a68061ad251",
   "metadata": {},
   "outputs": [],
   "source": [
    "filtro=datos[\"AÑO\"]<=2018\n",
    "train=datos[filtro].copy()\n",
    "test=datos[~filtro].copy()"
   ]
  },
  {
   "cell_type": "code",
   "execution_count": 5,
   "id": "051e23e9-a8e7-436d-8a20-25500452c84c",
   "metadata": {},
   "outputs": [
    {
     "data": {
      "text/html": [
       "<div>\n",
       "<style scoped>\n",
       "    .dataframe tbody tr th:only-of-type {\n",
       "        vertical-align: middle;\n",
       "    }\n",
       "\n",
       "    .dataframe tbody tr th {\n",
       "        vertical-align: top;\n",
       "    }\n",
       "\n",
       "    .dataframe thead th {\n",
       "        text-align: right;\n",
       "    }\n",
       "</style>\n",
       "<table border=\"1\" class=\"dataframe\">\n",
       "  <thead>\n",
       "    <tr style=\"text-align: right;\">\n",
       "      <th></th>\n",
       "      <th>AÑO</th>\n",
       "      <th>CBML</th>\n",
       "      <th>CLASE_ACCIDENTE</th>\n",
       "      <th>DIRECCION</th>\n",
       "      <th>DIRECCION ENCASILLADA</th>\n",
       "      <th>DISEÑO</th>\n",
       "      <th>EXPEDIENTE</th>\n",
       "      <th>FECHA_ACCIDENTE</th>\n",
       "      <th>FECHA_ACCIDENTES</th>\n",
       "      <th>GRAVEDAD_ACCIDENTE</th>\n",
       "      <th>MES</th>\n",
       "      <th>NRO_RADICADO</th>\n",
       "      <th>NUMCOMUNA</th>\n",
       "      <th>BARRIO</th>\n",
       "      <th>COMUNA</th>\n",
       "      <th>LOCATION</th>\n",
       "      <th>X</th>\n",
       "      <th>Y</th>\n",
       "    </tr>\n",
       "  </thead>\n",
       "  <tbody>\n",
       "    <tr>\n",
       "      <th>27915</th>\n",
       "      <td>2019</td>\n",
       "      <td>0605</td>\n",
       "      <td>Choque</td>\n",
       "      <td>CL 94 CR 72 A</td>\n",
       "      <td>CL  094   072 A  000 00000</td>\n",
       "      <td>Interseccion</td>\n",
       "      <td>A000923458</td>\n",
       "      <td>08/01/2019 21:10:00</td>\n",
       "      <td>2019-01-09T02:10:00.000Z</td>\n",
       "      <td>Solo da\\xF1os</td>\n",
       "      <td>1</td>\n",
       "      <td>1656117</td>\n",
       "      <td>06</td>\n",
       "      <td>La Esperanza</td>\n",
       "      <td>Doce de Octubre</td>\n",
       "      <td>[-75.5762596222, 6.28969552163]</td>\n",
       "      <td>834138.74</td>\n",
       "      <td>1187511.75</td>\n",
       "    </tr>\n",
       "    <tr>\n",
       "      <th>27916</th>\n",
       "      <td>2019</td>\n",
       "      <td>0605</td>\n",
       "      <td>Choque</td>\n",
       "      <td>CL 94 CR 72 A</td>\n",
       "      <td>CL  094   072 A  000 00000</td>\n",
       "      <td>Tramo de via</td>\n",
       "      <td>A000923374</td>\n",
       "      <td>08/01/2019 21:30:00</td>\n",
       "      <td>2019-01-09T02:30:00.000Z</td>\n",
       "      <td>Solo da\\xF1os</td>\n",
       "      <td>1</td>\n",
       "      <td>1656066</td>\n",
       "      <td>06</td>\n",
       "      <td>La Esperanza</td>\n",
       "      <td>Doce de Octubre</td>\n",
       "      <td>[-75.5762596222, 6.28969552163]</td>\n",
       "      <td>834138.74</td>\n",
       "      <td>1187511.75</td>\n",
       "    </tr>\n",
       "    <tr>\n",
       "      <th>27917</th>\n",
       "      <td>2019</td>\n",
       "      <td>1603</td>\n",
       "      <td>Choque</td>\n",
       "      <td>CL 30 CR 77</td>\n",
       "      <td>CL  030   077  000 00000</td>\n",
       "      <td>Interseccion</td>\n",
       "      <td>A000923118</td>\n",
       "      <td>08/01/2019 23:40:00</td>\n",
       "      <td>2019-01-09T04:40:00.000Z</td>\n",
       "      <td>Con heridos</td>\n",
       "      <td>1</td>\n",
       "      <td>1655916</td>\n",
       "      <td>16</td>\n",
       "      <td>Bel\\xE9n</td>\n",
       "      <td>Bel\\xE9n</td>\n",
       "      <td>[-75.5970734554, 6.23131316566]</td>\n",
       "      <td>831816.14</td>\n",
       "      <td>1181059.81</td>\n",
       "    </tr>\n",
       "    <tr>\n",
       "      <th>27918</th>\n",
       "      <td>2019</td>\n",
       "      <td>NaN</td>\n",
       "      <td>Choque</td>\n",
       "      <td>CL 8 CR 680</td>\n",
       "      <td>CL  008   680  000 00000</td>\n",
       "      <td>Tramo de via</td>\n",
       "      <td>A000923373</td>\n",
       "      <td>09/01/2019 02:45:00</td>\n",
       "      <td>2019-01-09T07:45:00.000Z</td>\n",
       "      <td>Solo da\\xF1os</td>\n",
       "      <td>1</td>\n",
       "      <td>1656072</td>\n",
       "      <td>Sin Inf</td>\n",
       "      <td>NaN</td>\n",
       "      <td>NaN</td>\n",
       "      <td>[-75.7037762763, 6.22141524356]</td>\n",
       "      <td>820000.00</td>\n",
       "      <td>1180000.00</td>\n",
       "    </tr>\n",
       "    <tr>\n",
       "      <th>27919</th>\n",
       "      <td>2019</td>\n",
       "      <td>0517</td>\n",
       "      <td>Caida Ocupante</td>\n",
       "      <td>CR 63 CL 67</td>\n",
       "      <td>CR  063   067  000 00000</td>\n",
       "      <td>Tramo de via</td>\n",
       "      <td>A000923126</td>\n",
       "      <td>09/01/2019 04:55:00</td>\n",
       "      <td>2019-01-09T09:55:00.000Z</td>\n",
       "      <td>Con heridos</td>\n",
       "      <td>1</td>\n",
       "      <td>1656008</td>\n",
       "      <td>05</td>\n",
       "      <td>Caribe</td>\n",
       "      <td>Castilla</td>\n",
       "      <td>[-75.5742390745, 6.26534417189]</td>\n",
       "      <td>834354.70</td>\n",
       "      <td>1184817.25</td>\n",
       "    </tr>\n",
       "    <tr>\n",
       "      <th>...</th>\n",
       "      <td>...</td>\n",
       "      <td>...</td>\n",
       "      <td>...</td>\n",
       "      <td>...</td>\n",
       "      <td>...</td>\n",
       "      <td>...</td>\n",
       "      <td>...</td>\n",
       "      <td>...</td>\n",
       "      <td>...</td>\n",
       "      <td>...</td>\n",
       "      <td>...</td>\n",
       "      <td>...</td>\n",
       "      <td>...</td>\n",
       "      <td>...</td>\n",
       "      <td>...</td>\n",
       "      <td>...</td>\n",
       "      <td>...</td>\n",
       "      <td>...</td>\n",
       "    </tr>\n",
       "    <tr>\n",
       "      <th>270760</th>\n",
       "      <td>2020</td>\n",
       "      <td>1004</td>\n",
       "      <td>Caida Ocupante</td>\n",
       "      <td>CR 62 CL 59</td>\n",
       "      <td>CR  062   059  000 00000</td>\n",
       "      <td>Tramo de via</td>\n",
       "      <td>A001164101</td>\n",
       "      <td>31/08/2020 18:50:00</td>\n",
       "      <td>2020-08-31T23:50:00.000Z</td>\n",
       "      <td>Con heridos</td>\n",
       "      <td>8</td>\n",
       "      <td>1722059</td>\n",
       "      <td>10</td>\n",
       "      <td>El Chagualo</td>\n",
       "      <td>La Candelaria</td>\n",
       "      <td>[-75.5731343044, 6.26063534822]</td>\n",
       "      <td>834475.51</td>\n",
       "      <td>1184295.99</td>\n",
       "    </tr>\n",
       "    <tr>\n",
       "      <th>270761</th>\n",
       "      <td>2020</td>\n",
       "      <td>1115</td>\n",
       "      <td>Otro</td>\n",
       "      <td>CL 50 CR 74</td>\n",
       "      <td>CL  050   074  000 00000</td>\n",
       "      <td>Tramo de via</td>\n",
       "      <td>A001164214</td>\n",
       "      <td>31/08/2020 18:50:00</td>\n",
       "      <td>2020-08-31T23:50:00.000Z</td>\n",
       "      <td>Con heridos</td>\n",
       "      <td>8</td>\n",
       "      <td>1722080</td>\n",
       "      <td>11</td>\n",
       "      <td>Cuarta Brigada</td>\n",
       "      <td>Laureles Estadio</td>\n",
       "      <td>[-75.5902062951, 6.26040455473]</td>\n",
       "      <td>832585.61</td>\n",
       "      <td>1184275.87</td>\n",
       "    </tr>\n",
       "    <tr>\n",
       "      <th>270762</th>\n",
       "      <td>2020</td>\n",
       "      <td>515</td>\n",
       "      <td>Choque</td>\n",
       "      <td>CL 80 CR 65</td>\n",
       "      <td>CL  080   065  000 00000</td>\n",
       "      <td>Tramo de via</td>\n",
       "      <td>A001164472</td>\n",
       "      <td>31/08/2020 19:05:00</td>\n",
       "      <td>2020-09-01T00:05:00.000Z</td>\n",
       "      <td>Solo daños</td>\n",
       "      <td>8</td>\n",
       "      <td>1722288</td>\n",
       "      <td>5</td>\n",
       "      <td>Cementerio Universal</td>\n",
       "      <td>Castilla</td>\n",
       "      <td>[-75.5735398111, 6.27625838886]</td>\n",
       "      <td>834435.55</td>\n",
       "      <td>1186024.41</td>\n",
       "    </tr>\n",
       "    <tr>\n",
       "      <th>270763</th>\n",
       "      <td>2020</td>\n",
       "      <td>207</td>\n",
       "      <td>Atropello</td>\n",
       "      <td>CL 104 CR 45</td>\n",
       "      <td>CL  104   045  000 00000</td>\n",
       "      <td>Tramo de via</td>\n",
       "      <td>A001164109</td>\n",
       "      <td>31/08/2020 19:30:00</td>\n",
       "      <td>2020-09-01T00:30:00.000Z</td>\n",
       "      <td>Con heridos</td>\n",
       "      <td>8</td>\n",
       "      <td>1722062</td>\n",
       "      <td>2</td>\n",
       "      <td>Villa del Socorro</td>\n",
       "      <td>Santa Cruz</td>\n",
       "      <td>[-75.5515085985, 6.29359892373]</td>\n",
       "      <td>836879.66</td>\n",
       "      <td>1187935.77</td>\n",
       "    </tr>\n",
       "    <tr>\n",
       "      <th>270764</th>\n",
       "      <td>2020</td>\n",
       "      <td>303</td>\n",
       "      <td>Atropello</td>\n",
       "      <td>CR 44 CL 79</td>\n",
       "      <td>CR  044   079  000 00000</td>\n",
       "      <td>Lote o Predio</td>\n",
       "      <td>A001164113</td>\n",
       "      <td>31/08/2020 21:45:00</td>\n",
       "      <td>2020-09-01T02:45:00.000Z</td>\n",
       "      <td>Con heridos</td>\n",
       "      <td>8</td>\n",
       "      <td>1722063</td>\n",
       "      <td>3</td>\n",
       "      <td>Campo Valdés No. 2</td>\n",
       "      <td>Manrique</td>\n",
       "      <td>[-75.5533856947, 6.2717784831]</td>\n",
       "      <td>836665.08</td>\n",
       "      <td>1185522.50</td>\n",
       "    </tr>\n",
       "  </tbody>\n",
       "</table>\n",
       "<p>65512 rows × 18 columns</p>\n",
       "</div>"
      ],
      "text/plain": [
       "         AÑO  CBML CLASE_ACCIDENTE      DIRECCION       DIRECCION ENCASILLADA  \\\n",
       "27915   2019  0605          Choque  CL 94 CR 72 A  CL  094   072 A  000 00000   \n",
       "27916   2019  0605          Choque  CL 94 CR 72 A  CL  094   072 A  000 00000   \n",
       "27917   2019  1603          Choque    CL 30 CR 77    CL  030   077  000 00000   \n",
       "27918   2019   NaN          Choque    CL 8 CR 680    CL  008   680  000 00000   \n",
       "27919   2019  0517  Caida Ocupante    CR 63 CL 67    CR  063   067  000 00000   \n",
       "...      ...   ...             ...            ...                         ...   \n",
       "270760  2020  1004  Caida Ocupante    CR 62 CL 59    CR  062   059  000 00000   \n",
       "270761  2020  1115            Otro    CL 50 CR 74    CL  050   074  000 00000   \n",
       "270762  2020   515          Choque    CL 80 CR 65    CL  080   065  000 00000   \n",
       "270763  2020   207       Atropello   CL 104 CR 45    CL  104   045  000 00000   \n",
       "270764  2020   303       Atropello    CR 44 CL 79    CR  044   079  000 00000   \n",
       "\n",
       "               DISEÑO  EXPEDIENTE      FECHA_ACCIDENTE  \\\n",
       "27915    Interseccion  A000923458  08/01/2019 21:10:00   \n",
       "27916    Tramo de via  A000923374  08/01/2019 21:30:00   \n",
       "27917    Interseccion  A000923118  08/01/2019 23:40:00   \n",
       "27918    Tramo de via  A000923373  09/01/2019 02:45:00   \n",
       "27919    Tramo de via  A000923126  09/01/2019 04:55:00   \n",
       "...               ...         ...                  ...   \n",
       "270760   Tramo de via  A001164101  31/08/2020 18:50:00   \n",
       "270761   Tramo de via  A001164214  31/08/2020 18:50:00   \n",
       "270762   Tramo de via  A001164472  31/08/2020 19:05:00   \n",
       "270763   Tramo de via  A001164109  31/08/2020 19:30:00   \n",
       "270764  Lote o Predio  A001164113  31/08/2020 21:45:00   \n",
       "\n",
       "                FECHA_ACCIDENTES GRAVEDAD_ACCIDENTE  MES NRO_RADICADO  \\\n",
       "27915   2019-01-09T02:10:00.000Z      Solo da\\xF1os    1      1656117   \n",
       "27916   2019-01-09T02:30:00.000Z      Solo da\\xF1os    1      1656066   \n",
       "27917   2019-01-09T04:40:00.000Z        Con heridos    1      1655916   \n",
       "27918   2019-01-09T07:45:00.000Z      Solo da\\xF1os    1      1656072   \n",
       "27919   2019-01-09T09:55:00.000Z        Con heridos    1      1656008   \n",
       "...                          ...                ...  ...          ...   \n",
       "270760  2020-08-31T23:50:00.000Z        Con heridos    8      1722059   \n",
       "270761  2020-08-31T23:50:00.000Z        Con heridos    8      1722080   \n",
       "270762  2020-09-01T00:05:00.000Z         Solo daños    8      1722288   \n",
       "270763  2020-09-01T00:30:00.000Z        Con heridos    8      1722062   \n",
       "270764  2020-09-01T02:45:00.000Z        Con heridos    8      1722063   \n",
       "\n",
       "       NUMCOMUNA                BARRIO            COMUNA  \\\n",
       "27915         06          La Esperanza   Doce de Octubre   \n",
       "27916         06          La Esperanza   Doce de Octubre   \n",
       "27917         16              Bel\\xE9n          Bel\\xE9n   \n",
       "27918    Sin Inf                   NaN               NaN   \n",
       "27919         05                Caribe          Castilla   \n",
       "...          ...                   ...               ...   \n",
       "270760        10           El Chagualo     La Candelaria   \n",
       "270761        11        Cuarta Brigada  Laureles Estadio   \n",
       "270762         5  Cementerio Universal          Castilla   \n",
       "270763         2     Villa del Socorro        Santa Cruz   \n",
       "270764         3    Campo Valdés No. 2          Manrique   \n",
       "\n",
       "                               LOCATION          X           Y  \n",
       "27915   [-75.5762596222, 6.28969552163]  834138.74  1187511.75  \n",
       "27916   [-75.5762596222, 6.28969552163]  834138.74  1187511.75  \n",
       "27917   [-75.5970734554, 6.23131316566]  831816.14  1181059.81  \n",
       "27918   [-75.7037762763, 6.22141524356]  820000.00  1180000.00  \n",
       "27919   [-75.5742390745, 6.26534417189]  834354.70  1184817.25  \n",
       "...                                 ...        ...         ...  \n",
       "270760  [-75.5731343044, 6.26063534822]  834475.51  1184295.99  \n",
       "270761  [-75.5902062951, 6.26040455473]  832585.61  1184275.87  \n",
       "270762  [-75.5735398111, 6.27625838886]  834435.55  1186024.41  \n",
       "270763  [-75.5515085985, 6.29359892373]  836879.66  1187935.77  \n",
       "270764   [-75.5533856947, 6.2717784831]  836665.08  1185522.50  \n",
       "\n",
       "[65512 rows x 18 columns]"
      ]
     },
     "execution_count": 5,
     "metadata": {},
     "output_type": "execute_result"
    }
   ],
   "source": [
    "test"
   ]
  },
  {
   "cell_type": "code",
   "execution_count": null,
   "id": "7a3179d2-32a0-437e-ba4b-820b1766adc9",
   "metadata": {},
   "outputs": [],
   "source": []
  }
 ],
 "metadata": {
  "kernelspec": {
   "display_name": "Python 3 (ipykernel)",
   "language": "python",
   "name": "python3"
  },
  "language_info": {
   "codemirror_mode": {
    "name": "ipython",
    "version": 3
   },
   "file_extension": ".py",
   "mimetype": "text/x-python",
   "name": "python",
   "nbconvert_exporter": "python",
   "pygments_lexer": "ipython3",
   "version": "3.9.12"
  }
 },
 "nbformat": 4,
 "nbformat_minor": 5
}
